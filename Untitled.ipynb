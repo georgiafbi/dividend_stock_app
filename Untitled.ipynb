{
 "cells": [
  {
   "cell_type": "code",
   "execution_count": 2,
   "id": "4c47a94b-e071-49d6-92f6-9efd42d7550d",
   "metadata": {},
   "outputs": [],
   "source": [
    "import pandas as pd\n"
   ]
  },
  {
   "cell_type": "code",
   "execution_count": 3,
   "id": "7f0079d5-ecf2-4cd1-8e18-dba4f5ccf582",
   "metadata": {},
   "outputs": [],
   "source": [
    "polygon_key='dI8pPwvkwQrJ_PS3593Zc2oRY8jssbMl'"
   ]
  },
  {
   "cell_type": "code",
   "execution_count": null,
   "id": "777c9a22-e6d9-41d0-8311-6440e4aa7d3a",
   "metadata": {},
   "outputs": [],
   "source": []
  }
 ],
 "metadata": {
  "kernelspec": {
   "display_name": "Python 3 (ipykernel)",
   "language": "python",
   "name": "python3"
  },
  "language_info": {
   "codemirror_mode": {
    "name": "ipython",
    "version": 3
   },
   "file_extension": ".py",
   "mimetype": "text/x-python",
   "name": "python",
   "nbconvert_exporter": "python",
   "pygments_lexer": "ipython3",
   "version": "3.8.11"
  }
 },
 "nbformat": 4,
 "nbformat_minor": 5
}
